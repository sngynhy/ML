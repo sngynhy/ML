{
 "cells": [
  {
   "cell_type": "markdown",
   "metadata": {},
   "source": [
    "# 모델 평가\n",
    "모델의 성능을 평가. 평가 결과에 따라 프로세스 다시 반복"
   ]
  },
  {
   "cell_type": "markdown",
   "metadata": {},
   "source": [
    "## 분류와 회귀의 평가방법\n",
    "### 분류 평가 방법\n",
    "1. 정확도 (Accuracy) - balanced data인경우 유용\n",
    "2. 정밀도 (Precision)\n",
    "3. 재현률 (Recall)\n",
    "4. ROC와 AUC\n",
    "\n",
    "### 회귀 평가 방법\n",
    "1. MSE (Mean Squareed Error)\n",
    "2. RMSE (Root Mean Squared Error)\n",
    "3. $R^2$ (결정 계수)\n",
    "\n",
    "### sckit-learn 평가 함수\n",
    " - sklearn.metrics 모듈"
   ]
  },
  {
   "cell_type": "markdown",
   "metadata": {},
   "source": [
    "# 분류(Classification) 평가\n",
    "## 용어\n",
    " - 이진 분류(둘 중 하나를 예측)에서 양성과 음성으로 나눔\n",
    "     - 양성: 예측하려는 대상\n",
    "     - 음성: 예측대상이 아닌 것\n",
    "     - ex) \n",
    "         - 암환자 분류 - 암환자: 양성, 정상인: 음성\n",
    "         - 스팸메일 분류 - 양성: 스팸메일, 음성: 스팸메일이 아닌 메일\n",
    "\n",
    "## 정확도 (Accuracy)\n",
    "    \n",
    "$$\n",
    "정확도(Accuracy) = \\cfrac{맞게 예측한 건수} {전체 예측 건수}\n",
    "$$\n",
    "\n",
    " - 전체 예측한 것중 맞게 예측한 비율로 평가\n",
    " - accuracy_score(예측값, 실제답)\n",
    " \n",
    "### Accuracy 평가지표의 문제점\n",
    " - 불균형 데이터의 경우 정확한 평가지표가 될 수 없다.\n",
    "     - 예: 양성과 음성의 비율이 1:9인 경우 모두 음성이라고 하면 정확도는 90%"
   ]
  },
  {
   "cell_type": "code",
   "execution_count": 6,
   "metadata": {},
   "outputs": [],
   "source": [
    "import numpy as np\n",
    "import pandas as pd\n",
    "from sklearn.base import BaseEstimator"
   ]
  },
  {
   "cell_type": "code",
   "execution_count": 7,
   "metadata": {},
   "outputs": [],
   "source": [
    "# 분류 예측 모델(추정기)\n",
    "# fit할 때 y에 더 많은 값을 가진 고유값으로 예측하는 모델\n",
    "class MyEstimator(BaseEstimator):\n",
    "    def fit(self, X, y):\n",
    "        # y 데이터의 고유값 개수 확인\n",
    "        cnt=np.unique(y, return_counts=True) # return_counts: 각 고유값들의 개수 반환\n",
    "        # np.argmax: max값의 index반환\n",
    "        max_idx=np.argmax(cnt[1])\n",
    "        # 예측할 값\n",
    "        self.pred=cnt[0][max_idx]\n",
    "        \n",
    "    def predict(self, X):\n",
    "        return np.full((X.shape[0], 1), fill_value=self.pred)"
   ]
  },
  {
   "cell_type": "code",
   "execution_count": 8,
   "metadata": {},
   "outputs": [
    {
     "data": {
      "text/plain": [
       "2"
      ]
     },
     "execution_count": 8,
     "metadata": {},
     "output_type": "execute_result"
    }
   ],
   "source": [
    "y=np.array([2,2,3,4,5,6,1,2,7])\n",
    "cnt=np.unique(y, return_counts=True)\n",
    "cnt\n",
    "max_idx=np.argmax(cnt[1])\n",
    "max_idx\n",
    "pred=cnt[0][max_idx]\n",
    "pred"
   ]
  },
  {
   "cell_type": "markdown",
   "metadata": {},
   "source": [
    "## MNIST Data set\n",
    " - 손글씨 데이터 셋\n",
    " - 사이킷런 제공 image size: 8x8"
   ]
  },
  {
   "cell_type": "code",
   "execution_count": 9,
   "metadata": {},
   "outputs": [],
   "source": [
    "from sklearn.datasets import load_digits\n",
    "import numpy as np\n",
    "import pandas as pd"
   ]
  },
  {
   "cell_type": "code",
   "execution_count": 10,
   "metadata": {},
   "outputs": [],
   "source": [
    "digits=load_digits()\n",
    "X=digits.data\n",
    "y=digits.target"
   ]
  },
  {
   "cell_type": "code",
   "execution_count": 11,
   "metadata": {},
   "outputs": [
    {
     "data": {
      "text/plain": [
       "((1797, 64), (1797,))"
      ]
     },
     "execution_count": 11,
     "metadata": {},
     "output_type": "execute_result"
    }
   ],
   "source": [
    "X.shape, y.shape"
   ]
  },
  {
   "cell_type": "code",
   "execution_count": 12,
   "metadata": {},
   "outputs": [
    {
     "data": {
      "text/plain": [
       "(array([0, 1, 2, 3, 4, 5, 6, 7, 8, 9]),\n",
       " array([178, 182, 177, 183, 181, 182, 181, 179, 174, 180], dtype=int64))"
      ]
     },
     "execution_count": 12,
     "metadata": {},
     "output_type": "execute_result"
    }
   ],
   "source": [
    "np.unique(y, return_counts=True)"
   ]
  },
  {
   "cell_type": "code",
   "execution_count": 13,
   "metadata": {},
   "outputs": [
    {
     "data": {
      "text/plain": [
       "array([[ 0.,  0.,  5., 13.,  9.,  1.,  0.,  0.],\n",
       "       [ 0.,  0., 13., 15., 10., 15.,  5.,  0.],\n",
       "       [ 0.,  3., 15.,  2.,  0., 11.,  8.,  0.],\n",
       "       [ 0.,  4., 12.,  0.,  0.,  8.,  8.,  0.],\n",
       "       [ 0.,  5.,  8.,  0.,  0.,  9.,  8.,  0.],\n",
       "       [ 0.,  4., 11.,  0.,  1., 12.,  7.,  0.],\n",
       "       [ 0.,  2., 14.,  5., 10., 12.,  0.,  0.],\n",
       "       [ 0.,  0.,  6., 13., 10.,  0.,  0.,  0.]])"
      ]
     },
     "execution_count": 13,
     "metadata": {},
     "output_type": "execute_result"
    }
   ],
   "source": [
    "no_0=X[0].reshape(8,8)\n",
    "no_0"
   ]
  },
  {
   "cell_type": "code",
   "execution_count": 14,
   "metadata": {},
   "outputs": [
    {
     "data": {
      "text/plain": [
       "<matplotlib.image.AxesImage at 0x15614ffb248>"
      ]
     },
     "execution_count": 14,
     "metadata": {},
     "output_type": "execute_result"
    },
    {
     "data": {
      "image/png": "[encoded data removed]",
      "text/plain": [
       "<Figure size 432x288 with 1 Axes>"
      ]
     },
     "metadata": {
      "needs_background": "light"
     },
     "output_type": "display_data"
    }
   ],
   "source": [
    "import matplotlib.pyplot as plt\n",
    "plt.imshow(no_0, cmap='Greys')"
   ]
  },
  {
   "cell_type": "markdown",
   "metadata": {},
   "source": [
    "## 불균형 데이터셋으로 만들기\n",
    " - y를 9와 나머지로 변경\n",
    " - Positive(양성): 9\n",
    " - Negative(음성): 0 ~ 8"
   ]
  },
  {
   "cell_type": "code",
   "execution_count": 15,
   "metadata": {},
   "outputs": [
    {
     "data": {
      "text/plain": [
       "array([False, False, False, ..., False,  True, False])"
      ]
     },
     "execution_count": 15,
     "metadata": {},
     "output_type": "execute_result"
    }
   ],
   "source": [
    "ry = (y == 9)\n",
    "ry"
   ]
  },
  {
   "cell_type": "code",
   "execution_count": 16,
   "metadata": {},
   "outputs": [
    {
     "data": {
      "text/plain": [
       "(array([False,  True]), array([1617,  180], dtype=int64))"
      ]
     },
     "execution_count": 16,
     "metadata": {},
     "output_type": "execute_result"
    }
   ],
   "source": [
    "np.unique(ry, return_counts=True)"
   ]
  },
  {
   "cell_type": "code",
   "execution_count": 17,
   "metadata": {},
   "outputs": [
    {
     "data": {
      "text/plain": [
       "array([0.89983306, 0.10016694])"
      ]
     },
     "execution_count": 17,
     "metadata": {},
     "output_type": "execute_result"
    }
   ],
   "source": [
    "np.unique(ry, return_counts=True)[1]/ry.size # 9가 아닌 것과 9인 것의 비율"
   ]
  },
  {
   "cell_type": "markdown",
   "metadata": {},
   "source": [
    "#### 훈련, 테스트 데이터 셋 분할"
   ]
  },
  {
   "cell_type": "code",
   "execution_count": 18,
   "metadata": {},
   "outputs": [],
   "source": [
    "from sklearn.model_selection import train_test_split"
   ]
  },
  {
   "cell_type": "code",
   "execution_count": 19,
   "metadata": {},
   "outputs": [],
   "source": [
    "X_train, X_test, y_train, y_test = train_test_split(X, ry, stratify=ry)\n",
    "# stratify : 지정한 Data의 비율을 유지"
   ]
  },
  {
   "cell_type": "markdown",
   "metadata": {},
   "source": [
    "#### 모델 생성 및 학습"
   ]
  },
  {
   "cell_type": "code",
   "execution_count": 20,
   "metadata": {},
   "outputs": [],
   "source": [
    "my_model=MyEstimator() # 모델 생성\n",
    "my_model.fit(X_train, y_train) # 학습\n",
    "pred_train = my_model.predict(X_train)\n",
    "pred_test = my_model.predict(X_test)"
   ]
  },
  {
   "cell_type": "code",
   "execution_count": 21,
   "metadata": {},
   "outputs": [
    {
     "data": {
      "text/plain": [
       "array([False])"
      ]
     },
     "execution_count": 21,
     "metadata": {},
     "output_type": "execute_result"
    }
   ],
   "source": [
    "np.unique(pred_train)"
   ]
  },
  {
   "cell_type": "markdown",
   "metadata": {},
   "source": [
    "#### 모델 평가"
   ]
  },
  {
   "cell_type": "code",
   "execution_count": 22,
   "metadata": {},
   "outputs": [],
   "source": [
    "from sklearn.metrics import accuracy_score"
   ]
  },
  {
   "cell_type": "code",
   "execution_count": 23,
   "metadata": {},
   "outputs": [
    {
     "data": {
      "text/plain": [
       "(0.8997772828507795, 0.9)"
      ]
     },
     "execution_count": 23,
     "metadata": {},
     "output_type": "execute_result"
    }
   ],
   "source": [
    "accuracy_score(y_train, pred_train), accuracy_score(y_test, pred_test)"
   ]
  },
  {
   "cell_type": "markdown",
   "metadata": {},
   "source": [
    "## 혼동 행렬(confusion_matrix)\n",
    " - 이진분류의 평가지료의 기준으로 사용\n",
    " - 혼동 행렬을 이용해  다양한 평가지표(정확도, 정밀도, 재현률, F1 점수, AUC 점수) 계산 가능\n",
    " - confusion_matrix(실제답, 예측값)"
   ]
  },
  {
   "cell_type": "markdown",
   "metadata": {},
   "source": [
    "### Recall(재현율)과 Precision(정밀도)\n",
    " - 양성 데이터 셋의 예측 성능에 초점을 맞춘 평가 지표\n",
    " - Recall/Sensitivity(재현율/민감도): 실제 Positive(양성)인 것 중에 Positive로 예측한 것의 비율\n",
    " - Precision(정밀도): Positive(양성)으로 예측한 것 중 실제 Positive인 건수의 비율\n",
    "\n",
    "specificity: negative(음성) 중 실제 negative를 구하는, 하지만 우리는 positive에 초점을 두기 때문에 사용빈도수는 낮음. 반대로 negative 중 positive가 몇 개인지를 구하는건 auc를 사용할 떄 씀.\n",
    "\n",
    "### Accuracy(정확도): 전체 중 True 인 것들."
   ]
  },
  {
   "cell_type": "markdown",
   "metadata": {},
   "source": [
    "### Dummy 모델 혼동행렬"
   ]
  },
  {
   "cell_type": "code",
   "execution_count": 24,
   "metadata": {},
   "outputs": [],
   "source": [
    "from sklearn.metrics import confusion_matrix, recall_score, precision_score, f1_score, accuracy_score"
   ]
  },
  {
   "cell_type": "code",
   "execution_count": 25,
   "metadata": {},
   "outputs": [
    {
     "data": {
      "text/plain": [
       "array([[1212,    0],\n",
       "       [ 135,    0]], dtype=int64)"
      ]
     },
     "execution_count": 25,
     "metadata": {},
     "output_type": "execute_result"
    }
   ],
   "source": [
    "confusion_matrix(y_train, pred_train )"
   ]
  },
  {
   "cell_type": "code",
   "execution_count": 26,
   "metadata": {},
   "outputs": [
    {
     "data": {
      "text/plain": [
       "array([[405,   0],\n",
       "       [ 45,   0]], dtype=int64)"
      ]
     },
     "execution_count": 26,
     "metadata": {},
     "output_type": "execute_result"
    }
   ],
   "source": [
    "confusion_matrix(y_test, pred_test)"
   ]
  },
  {
   "cell_type": "code",
   "execution_count": 27,
   "metadata": {},
   "outputs": [
    {
     "data": {
      "text/plain": [
       "0.9"
      ]
     },
     "execution_count": 27,
     "metadata": {},
     "output_type": "execute_result"
    }
   ],
   "source": [
    "accuracy_score(y_test, pred_test)"
   ]
  },
  {
   "cell_type": "markdown",
   "metadata": {},
   "source": [
    "### 머신러닝 모델을 이용해 학습"
   ]
  },
  {
   "cell_type": "code",
   "execution_count": 28,
   "metadata": {},
   "outputs": [],
   "source": [
    "def print_metrics(y, pred, title=None):\n",
    "    acc=accuracy_score(y, pred)\n",
    "    recall=recall_score(y, pred)\n",
    "    precision=precision_score(y, pred)\n",
    "    f1=f1_score(y, pred)\n",
    "    if title:\n",
    "        print(title)\n",
    "    print(f'정확도:{acc}, 재현율:{recall}, 정밀도:{precision}, f1점수:{f1}')"
   ]
  },
  {
   "cell_type": "code",
   "execution_count": 29,
   "metadata": {},
   "outputs": [
    {
     "name": "stdout",
     "output_type": "stream",
     "text": [
      "dummy-test\n",
      "정확도:0.9, 재현율:0.0, 정밀도:0.0, f1점수:0.0\n",
      "None\n"
     ]
    },
    {
     "name": "stderr",
     "output_type": "stream",
     "text": [
      "C:\\Users\\dearm\\AppData\\Local\\Continuum\\anaconda3\\lib\\site-packages\\sklearn\\metrics\\classification.py:1437: UndefinedMetricWarning: Precision is ill-defined and being set to 0.0 due to no predicted samples.\n",
      "  'precision', 'predicted', average, warn_for)\n",
      "C:\\Users\\dearm\\AppData\\Local\\Continuum\\anaconda3\\lib\\site-packages\\sklearn\\metrics\\classification.py:1437: UndefinedMetricWarning: F-score is ill-defined and being set to 0.0 due to no predicted samples.\n",
      "  'precision', 'predicted', average, warn_for)\n"
     ]
    }
   ],
   "source": [
    "print(print_metrics(y_test, pred_test, 'dummy-test'))"
   ]
  },
  {
   "cell_type": "code",
   "execution_count": 30,
   "metadata": {},
   "outputs": [],
   "source": [
    "from sklearn.tree import DecisionTreeClassifier\n",
    "from sklearn.ensemble import RandomForestClassifier"
   ]
  },
  {
   "cell_type": "code",
   "execution_count": 31,
   "metadata": {},
   "outputs": [
    {
     "name": "stdout",
     "output_type": "stream",
     "text": [
      "결정나무 - test\n",
      "정확도:0.9488888888888889, 재현율:0.7333333333333333, 정밀도:0.75, f1점수:0.7415730337078651\n"
     ]
    }
   ],
   "source": [
    "tree=DecisionTreeClassifier()\n",
    "tree.fit(X_train, y_train)\n",
    "pred_tree=tree.predict(X_test)\n",
    "print_metrics(y_test, pred_tree, '결정나무 - test')"
   ]
  },
  {
   "cell_type": "code",
   "execution_count": 32,
   "metadata": {},
   "outputs": [
    {
     "name": "stdout",
     "output_type": "stream",
     "text": [
      "rf - test\n",
      "정확도:0.9688888888888889, 재현율:0.7111111111111111, 정밀도:0.9696969696969697, f1점수:0.8205128205128205\n"
     ]
    },
    {
     "name": "stderr",
     "output_type": "stream",
     "text": [
      "C:\\Users\\dearm\\AppData\\Local\\Continuum\\anaconda3\\lib\\site-packages\\sklearn\\ensemble\\forest.py:245: FutureWarning: The default value of n_estimators will change from 10 in version 0.20 to 100 in 0.22.\n",
      "  \"10 in version 0.20 to 100 in 0.22.\", FutureWarning)\n"
     ]
    }
   ],
   "source": [
    "rf=RandomForestClassifier()\n",
    "rf.fit(X_train, y_train)\n",
    "pred_rf=rf.predict(X_test)\n",
    "print_metrics(y_test, pred_rf, 'rf - test')"
   ]
  },
  {
   "cell_type": "code",
   "execution_count": 49,
   "metadata": {},
   "outputs": [
    {
     "data": {
      "text/plain": [
       "array([0., 0., 1., 0., 1., 0., 0., 0., 0., 0., 1., 0., 0., 0., 1., 0., 0.,\n",
       "       0., 0., 0., 0., 0., 0., 0., 0., 0., 1., 0., 0., 1., 0., 0., 0., 0.,\n",
       "       0., 0., 0., 1., 0., 1., 0., 0., 0., 1., 0., 0., 1., 0., 0., 0., 0.,\n",
       "       0., 1., 0., 1., 0., 0., 0., 0., 0., 0., 0., 0., 0., 0., 0., 0., 0.,\n",
       "       0., 1., 1., 0., 0., 1., 0., 0., 0., 0., 0., 0., 0., 0., 1., 1., 0.,\n",
       "       1., 1., 0., 1., 0., 0., 0., 0., 0., 0., 0., 0., 0., 1., 0., 0., 0.,\n",
       "       0., 0., 0., 0., 0., 0., 0., 0., 0., 0., 0., 0., 0., 0., 0., 0., 0.,\n",
       "       0., 0., 0., 0., 0., 0., 1., 0., 1., 0., 1., 0., 1., 0., 0., 0., 0.,\n",
       "       0., 1., 0., 0., 0., 0., 0., 0., 0., 0., 0., 1., 1., 0., 0., 0., 0.,\n",
       "       0., 0., 1., 0., 1., 1., 0., 0., 1., 0., 0., 0., 1., 0., 0., 0., 0.,\n",
       "       0., 0., 0., 0., 0., 0., 0., 0., 0., 0., 0., 0., 0., 0., 0., 0., 0.,\n",
       "       0., 0., 0., 0., 0., 0., 0., 0., 1., 0., 0., 1., 0., 1., 0., 0., 0.,\n",
       "       0., 0., 0., 0., 0., 0., 0., 0., 0., 0., 0., 0., 0., 0., 0., 0., 1.,\n",
       "       0., 0., 0., 1., 0., 0., 0., 0., 0., 0., 0., 0., 0., 0., 0., 0., 1.,\n",
       "       0., 1., 0., 0., 1., 0., 0., 0., 0., 0., 0., 0., 0., 0., 0., 1., 1.,\n",
       "       1., 0., 0., 0., 0., 1., 0., 0., 1., 0., 0., 0., 1., 0., 0., 0., 0.,\n",
       "       0., 0., 0., 0., 0., 0., 0., 0., 0., 0., 0., 0., 0., 0., 0., 0., 0.,\n",
       "       1., 1., 0., 0., 0., 0., 0., 0., 0., 0., 1., 0., 0., 1., 0., 1., 1.,\n",
       "       0., 0., 0., 0., 1., 0., 0., 0., 0., 0., 0., 0., 1., 0., 1., 1., 0.,\n",
       "       0., 0., 0., 0., 0., 1., 0., 0., 0., 0., 0., 0., 0., 0., 0., 0., 0.,\n",
       "       0., 1., 0., 0., 0., 0., 0., 0., 0., 0., 0., 0., 0., 0., 0., 0., 0.,\n",
       "       0., 1., 0., 0., 0., 1., 0., 0., 0., 0., 0., 0., 0., 1., 0., 0., 1.,\n",
       "       0., 0., 0., 0., 0., 0., 0., 0., 0., 0., 0., 1., 1., 0., 0., 0., 0.,\n",
       "       0., 0., 0., 1., 0., 0., 0., 0., 0., 0., 1., 1., 0., 0., 0., 0., 0.,\n",
       "       0., 0., 0., 0., 0., 0., 1., 0., 0., 1., 0., 1., 0., 0., 0., 0., 0.,\n",
       "       0., 1., 0., 1., 0., 0., 0., 0., 0., 1., 0., 0., 0., 0., 0., 1., 0.,\n",
       "       0., 0., 0., 0., 0., 0., 0., 0.])"
      ]
     },
     "execution_count": 49,
     "metadata": {},
     "output_type": "execute_result"
    }
   ],
   "source": [
    "from sklearn.preprocessing import Binarizer\n",
    "\n",
    "binarizer=Binarizer(threshold=0.1)  # positive 로 예측하는 것이 많아진다. => 재현율이 올라가고 정밀도는 낮아진다.\n",
    "pred_proba_rf=rf.predict_proba(X_test)\n",
    "pred_rf=binarizer.fit_transform(pred_proba_rf)[:,1]  # 모든 행, 1열\n",
    "pred_rf\n",
    "# pred_proba_rf"
   ]
  },
  {
   "cell_type": "code",
   "execution_count": 58,
   "metadata": {},
   "outputs": [
    {
     "name": "stdout",
     "output_type": "stream",
     "text": [
      "정확도:0.9244444444444444, 재현율:0.9555555555555556, 정밀도:0.5733333333333334, f1점수:0.7166666666666667\n"
     ]
    }
   ],
   "source": [
    "print_metrics(y_test, pred_rf)"
   ]
  },
  {
   "cell_type": "markdown",
   "metadata": {},
   "source": [
    "# ROC(곡선)\n",
    " - x축: FPR(거짓양성), y축: TPR(참양성)"
   ]
  },
  {
   "cell_type": "markdown",
   "metadata": {},
   "source": [
    "# AUC(곡선아래 면적)\n",
    " - 0 ~ 1 사이 실수의 값으로 나오며 클수록 좋음\n",
    " - FPR값은 0에 가까울수록, TPR값은 1에 가까울수록 좋은 모델 (면적이 넓을수록)"
   ]
  },
  {
   "cell_type": "markdown",
   "metadata": {},
   "source": [
    "### ROC, AUC 확인\n",
    " - roc_curve( y값, 예측확률): FPR, TPR, Thresholds(임계값)\n",
    " - roc_auc_score( y값, 예측확률): AUC 점수 반환"
   ]
  },
  {
   "cell_type": "code",
   "execution_count": 5,
   "metadata": {},
   "outputs": [],
   "source": [
    "from sklearn.metrics import roc_curve, roc_auc_score\n",
    "import matplotlib.pyplot as plt"
   ]
  },
  {
   "cell_type": "code",
   "execution_count": 52,
   "metadata": {},
   "outputs": [
    {
     "data": {
      "text/plain": [
       "array([0.1, 0.1, 0.3, 0. , 0.5, 0. , 0. , 0. , 0. , 0.1, 0.3, 0.1, 0.1,\n",
       "       0. , 0.5, 0.1, 0. , 0. , 0. , 0. , 0. , 0. , 0. , 0. , 0. , 0.1,\n",
       "       0.5, 0.1, 0. , 0.8, 0. , 0. , 0. , 0. , 0. , 0. , 0. , 0.4, 0. ,\n",
       "       1. , 0. , 0.1, 0. , 0.7, 0. , 0.1, 0.3, 0. , 0. , 0. , 0.1, 0. ,\n",
       "       0.7, 0. , 0.7, 0. , 0. , 0. , 0. , 0.1, 0. , 0. , 0. , 0. , 0.1,\n",
       "       0. , 0. , 0. , 0. , 0.8, 0.3, 0. , 0. , 0.9, 0. , 0. , 0. , 0. ,\n",
       "       0. , 0. , 0.1, 0. , 0.9, 0.8, 0. , 0.2, 0.3, 0. , 0.8, 0. , 0. ,\n",
       "       0.1, 0. , 0. , 0. , 0. , 0. , 0. , 0.3, 0. , 0. , 0. , 0. , 0.1,\n",
       "       0. , 0. , 0.1, 0. , 0. , 0. , 0.1, 0. , 0. , 0. , 0. , 0. , 0. ,\n",
       "       0.1, 0. , 0. , 0. , 0. , 0. , 0. , 0. , 0.2, 0. , 0.9, 0. , 0.8,\n",
       "       0. , 0.3, 0. , 0. , 0. , 0. , 0. , 0.2, 0. , 0. , 0. , 0. , 0. ,\n",
       "       0. , 0. , 0. , 0. , 0.2, 0.8, 0. , 0. , 0. , 0. , 0. , 0. , 0.6,\n",
       "       0. , 0.3, 0.2, 0. , 0.1, 0.7, 0. , 0.1, 0. , 1. , 0. , 0. , 0. ,\n",
       "       0.1, 0. , 0. , 0. , 0. , 0.1, 0. , 0. , 0. , 0. , 0. , 0. , 0. ,\n",
       "       0. , 0.1, 0. , 0. , 0.1, 0. , 0. , 0.1, 0. , 0. , 0. , 0. , 0. ,\n",
       "       0.2, 0. , 0. , 0.7, 0. , 0.3, 0.1, 0. , 0. , 0. , 0.1, 0. , 0. ,\n",
       "       0.1, 0. , 0. , 0.1, 0. , 0. , 0. , 0. , 0. , 0. , 0. , 0. , 0.2,\n",
       "       0.1, 0. , 0. , 0.2, 0. , 0. , 0.1, 0. , 0. , 0. , 0. , 0. , 0. ,\n",
       "       0. , 0. , 0. , 0.8, 0. , 0.2, 0. , 0.1, 0.2, 0. , 0.1, 0. , 0. ,\n",
       "       0. , 0.1, 0. , 0.1, 0.1, 0. , 0.3, 1. , 0.8, 0. , 0. , 0. , 0. ,\n",
       "       1. , 0. , 0. , 0.2, 0.1, 0.1, 0.1, 0.9, 0. , 0. , 0. , 0. , 0.1,\n",
       "       0. , 0. , 0.1, 0.1, 0. , 0.1, 0. , 0. , 0. , 0. , 0. , 0. , 0. ,\n",
       "       0. , 0.1, 0.1, 0.2, 0.6, 0. , 0. , 0. , 0. , 0. , 0. , 0. , 0.1,\n",
       "       0.5, 0. , 0. , 0.5, 0. , 0.2, 1. , 0. , 0. , 0.1, 0. , 0.6, 0.1,\n",
       "       0. , 0. , 0. , 0. , 0.1, 0. , 0.4, 0. , 0.2, 0.2, 0. , 0.1, 0. ,\n",
       "       0. , 0. , 0. , 0.3, 0. , 0. , 0. , 0.1, 0. , 0.1, 0.1, 0. , 0. ,\n",
       "       0.1, 0. , 0. , 0.2, 0. , 0. , 0. , 0. , 0. , 0.1, 0.1, 0. , 0. ,\n",
       "       0. , 0. , 0. , 0. , 0. , 0. , 0. , 0.5, 0. , 0. , 0. , 0.6, 0.1,\n",
       "       0. , 0.1, 0. , 0. , 0. , 0. , 0.6, 0. , 0. , 0.2, 0. , 0. , 0.1,\n",
       "       0. , 0. , 0. , 0. , 0.1, 0. , 0. , 0.1, 1. , 0.3, 0. , 0. , 0. ,\n",
       "       0. , 0.1, 0. , 0. , 0.2, 0.1, 0. , 0. , 0. , 0. , 0.1, 0.9, 0.4,\n",
       "       0.1, 0. , 0. , 0.1, 0. , 0. , 0. , 0. , 0. , 0. , 0.1, 0.7, 0.1,\n",
       "       0. , 0.2, 0. , 0.8, 0. , 0.1, 0.1, 0. , 0. , 0. , 0.7, 0.1, 0.3,\n",
       "       0. , 0. , 0. , 0. , 0. , 0.8, 0. , 0. , 0. , 0.1, 0. , 0.5, 0. ,\n",
       "       0. , 0. , 0. , 0. , 0. , 0. , 0. , 0.1])"
      ]
     },
     "execution_count": 52,
     "metadata": {},
     "output_type": "execute_result"
    }
   ],
   "source": [
    "positive_proba=pred_proba_rf[:,1]\n",
    "positive_proba"
   ]
  },
  {
   "cell_type": "code",
   "execution_count": 55,
   "metadata": {},
   "outputs": [],
   "source": [
    "fprs, tprs, thre = roc_curve(y_test, positive_proba)"
   ]
  },
  {
   "cell_type": "code",
   "execution_count": 59,
   "metadata": {},
   "outputs": [
    {
     "data": {
      "text/plain": [
       "array([2. , 1. , 0.9, 0.8, 0.7, 0.6, 0.5, 0.4, 0.3, 0.2, 0.1, 0. ])"
      ]
     },
     "execution_count": 59,
     "metadata": {},
     "output_type": "execute_result"
    }
   ],
   "source": [
    "thre"
   ]
  },
  {
   "cell_type": "code",
   "execution_count": 65,
   "metadata": {},
   "outputs": [
    {
     "name": "stderr",
     "output_type": "stream",
     "text": [
      "C:\\Users\\dearm\\AppData\\Local\\Continuum\\anaconda3\\lib\\site-packages\\matplotlib\\backends\\backend_agg.py:211: RuntimeWarning: Glyph 44257 missing from current font.\n",
      "  font.set_text(s, 0.0, flags=flags)\n",
      "C:\\Users\\dearm\\AppData\\Local\\Continuum\\anaconda3\\lib\\site-packages\\matplotlib\\backends\\backend_agg.py:211: RuntimeWarning: Glyph 49440 missing from current font.\n",
      "  font.set_text(s, 0.0, flags=flags)\n",
      "C:\\Users\\dearm\\AppData\\Local\\Continuum\\anaconda3\\lib\\site-packages\\matplotlib\\backends\\backend_agg.py:180: RuntimeWarning: Glyph 44257 missing from current font.\n",
      "  font.set_text(s, 0, flags=flags)\n",
      "C:\\Users\\dearm\\AppData\\Local\\Continuum\\anaconda3\\lib\\site-packages\\matplotlib\\backends\\backend_agg.py:180: RuntimeWarning: Glyph 49440 missing from current font.\n",
      "  font.set_text(s, 0, flags=flags)\n"
     ]
    },
    {
     "data": {
      "image/png": "[encoded data removed]",
      "text/plain": [
       "<Figure size 720x720 with 1 Axes>"
      ]
     },
     "metadata": {},
     "output_type": "display_data"
    }
   ],
   "source": [
    "plt.figure(figsize=(10,10), facecolor='W')\n",
    "plt.plot(fprs, tprs, label='ROC 곡선')\n",
    "plt.plot([0,1],[0,1],label='Random')\n",
    "plt.legend()\n",
    "plt.show()"
   ]
  },
  {
   "cell_type": "code",
   "execution_count": 66,
   "metadata": {},
   "outputs": [
    {
     "data": {
      "text/plain": [
       "0.8543209876543212"
      ]
     },
     "execution_count": 66,
     "metadata": {},
     "output_type": "execute_result"
    }
   ],
   "source": [
    "pred_rf=rf.predict(X_test)\n",
    "auc=roc_auc_score(y_test, pred_rf)\n",
    "auc"
   ]
  },
  {
   "cell_type": "code",
   "execution_count": 67,
   "metadata": {},
   "outputs": [
    {
     "data": {
      "text/plain": [
       "0.8530864197530864"
      ]
     },
     "execution_count": 67,
     "metadata": {},
     "output_type": "execute_result"
    }
   ],
   "source": [
    "roc_auc_score(y_test, pred_tree)"
   ]
  },
  {
   "cell_type": "code",
   "execution_count": 70,
   "metadata": {},
   "outputs": [
    {
     "data": {
      "text/plain": [
       "0.5"
      ]
     },
     "execution_count": 70,
     "metadata": {},
     "output_type": "execute_result"
    }
   ],
   "source": [
    "pred_dummy=my_model.predict(X_test)\n",
    "roc_auc_score(y_test, pred_dummy)"
   ]
  },
  {
   "cell_type": "code",
   "execution_count": null,
   "metadata": {},
   "outputs": [],
   "source": []
  },
  {
   "cell_type": "code",
   "execution_count": null,
   "metadata": {},
   "outputs": [],
   "source": []
  },
  {
   "cell_type": "code",
   "execution_count": null,
   "metadata": {},
   "outputs": [],
   "source": []
  },
  {
   "cell_type": "code",
   "execution_count": null,
   "metadata": {},
   "outputs": [],
   "source": []
  },
  {
   "cell_type": "code",
   "execution_count": 71,
   "metadata": {},
   "outputs": [
    {
     "name": "stdin",
     "output_type": "stream",
     "text": [
      " 2\n"
     ]
    },
    {
     "ename": "ValueError",
     "evalue": "not enough values to unpack (expected 2, got 1)",
     "output_type": "error",
     "traceback": [
      "\u001b[1;31m---------------------------------------------------------------------------\u001b[0m",
      "\u001b[1;31mValueError\u001b[0m                                Traceback (most recent call last)",
      "\u001b[1;32m<ipython-input-71-1a5fc455265f>\u001b[0m in \u001b[0;36m<module>\u001b[1;34m\u001b[0m\n\u001b[1;32m----> 1\u001b[1;33m \u001b[0ma\u001b[0m\u001b[1;33m,\u001b[0m \u001b[0mb\u001b[0m \u001b[1;33m=\u001b[0m \u001b[0mmap\u001b[0m\u001b[1;33m(\u001b[0m\u001b[0mint\u001b[0m\u001b[1;33m,\u001b[0m \u001b[0minput\u001b[0m\u001b[1;33m(\u001b[0m\u001b[1;33m)\u001b[0m\u001b[1;33m.\u001b[0m\u001b[0mstrip\u001b[0m\u001b[1;33m(\u001b[0m\u001b[1;33m)\u001b[0m\u001b[1;33m.\u001b[0m\u001b[0msplit\u001b[0m\u001b[1;33m(\u001b[0m\u001b[1;34m' '\u001b[0m\u001b[1;33m)\u001b[0m\u001b[1;33m)\u001b[0m\u001b[1;33m\u001b[0m\u001b[1;33m\u001b[0m\u001b[0m\n\u001b[0m\u001b[0;32m      2\u001b[0m \u001b[0mprint\u001b[0m\u001b[1;33m(\u001b[0m\u001b[0ma\u001b[0m \u001b[1;33m+\u001b[0m \u001b[0mb\u001b[0m\u001b[1;33m)\u001b[0m\u001b[1;33m\u001b[0m\u001b[1;33m\u001b[0m\u001b[0m\n",
      "\u001b[1;31mValueError\u001b[0m: not enough values to unpack (expected 2, got 1)"
     ]
    }
   ],
   "source": [
    "a, b = map(int, input().strip().split(' '))\n",
    "print(a + b)"
   ]
  }
 ],
 "metadata": {
  "kernelspec": {
   "display_name": "Python 3",
   "language": "python",
   "name": "python3"
  },
  "language_info": {
   "codemirror_mode": {
    "name": "ipython",
    "version": 3
   },
   "file_extension": ".py",
   "mimetype": "text/x-python",
   "name": "python",
   "nbconvert_exporter": "python",
   "pygments_lexer": "ipython3",
   "version": "3.7.4"
  }
 },
 "nbformat": 4,
 "nbformat_minor": 4
}
