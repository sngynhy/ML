{
 "cells": [
  {
   "cell_type": "markdown",
   "metadata": {},
   "source": [
    "# 선형회귀 개요\n",
    "\n",
    "선형 회귀(線型回歸, Linear regression)는 종속 변수 y와 한 개 이상의 독립 변수 (또는 설명 변수) X와의 선형 상관 관계를 모델링하는 회귀분석 기법. [위키백과](https://ko.wikipedia.org/wiki/%EC%84%A0%ED%98%95_%ED%9A%8C%EA%B7%80)\n",
    "\n",
    " - 설명변수(독립변수): 원인, 종속변수: 결과\n",
    " - 종속변수에 영향을 미치는 설명변수가 1개인 경우: 단항회귀, 2개 이상인 경우: 다항회귀\n",
    "\n",
    "## 선형회귀 모델\n",
    "$$\n",
    "\\hat{y_i} = w_1 x_{i1} + w_2 x_{i2}... + w_{p} x_{ip} + b\n",
    "$$\n",
    "\n",
    "\n",
    "- $\\hat{y_i}$: 예측값\n",
    "- $x$: 특성(feature-컬럼)\n",
    "- $w$: 가중치(weight), 회귀계수(regression coefficient). 특성이 $\\hat{y_i}$ 에 얼마나 영향을 주는지 정도\n",
    "- $b$: 절편\n",
    "- $p$: p 번째 특성(feature)/p번째 가중치\n",
    "- $i$: i번째 관측치(sample)\n"
   ]
  },
  {
   "cell_type": "markdown",
   "metadata": {},
   "source": [
    "## 손실(loss)함수/오차(error)함수/비용(cost)함수/목적(objective)함수\n",
    "\n",
    "- 모델이 출력한 예측값과 실제 값 사이의 차이를 계산하는 함수\n",
    "- 평가 지표로 사용되기도 하고 모델을 최적화하는데 사용된다.\n",
    "\n",
    "## 최적화(Optimize)\n",
    "\n",
    "- 손실함수의 값이 최소화 되도록 모델을 학습하는 과정.\n",
    "- 최적화의 두가지 방법\n",
    "    - 정규방정식\n",
    "    - 경사하강법"
   ]
  },
  {
   "cell_type": "markdown",
   "metadata": {},
   "source": [
    "### Boston DataSet\n",
    " - CRIM\t: 지역별 범죄 발생률\n",
    " - ZN\t: 25,000 평방피트를 초과하는 거주지역의 비율\n",
    " - INDUS: 비상업지역 토지의 비율\n",
    " - CHAS\t: 찰스강에 대한 더미변수(강의 경계에 위치한 경우는 1, 아니면 0)\n",
    " - NOX\t: 일산화질소 농도\n",
    " - RM\t: 주택 1가구당 평균 방의 개수\n",
    " - AGE\t: 1940년 이전에 건축된 소유주택의 비율\n",
    " - DIS\t: 5개의 보스턴 고용센터까지의 접근성 지수\n",
    " - RAD\t: 고속도로까지의 접근성 지수\n",
    " - TAX\t: 10,000 달러 당 재산세율\n",
    " - PTRATIO : 지역별 교사 한명당 학생 비율\n",
    " - B\t: 지역의 흑인 거주 비율\n",
    " - LSTAT: 하위계층의 비율(%)\n",
    " \n",
    " - MEDV\t: Target.  본인 소유의 주택가격(중앙값) (단위: $1,000)\n"
   ]
  },
  {
   "cell_type": "code",
   "execution_count": 1,
   "metadata": {},
   "outputs": [],
   "source": [
    "import pandas as pd\n",
    "import numpy as np\n",
    "import matplotlib.pyplot as plt\n",
    "\n",
    "from sklearn.datasets import load_boston\n",
    "boston=load_boston()\n",
    "X, y = boston.data, boston.target"
   ]
  },
  {
   "cell_type": "code",
   "execution_count": 4,
   "metadata": {},
   "outputs": [
    {
     "data": {
      "text/html": [
       "<div>\n",
       "<style scoped>\n",
       "    .dataframe tbody tr th:only-of-type {\n",
       "        vertical-align: middle;\n",
       "    }\n",
       "\n",
       "    .dataframe tbody tr th {\n",
       "        vertical-align: top;\n",
       "    }\n",
       "\n",
       "    .dataframe thead th {\n",
       "        text-align: right;\n",
       "    }\n",
       "</style>\n",
       "<table border=\"1\" class=\"dataframe\">\n",
       "  <thead>\n",
       "    <tr style=\"text-align: right;\">\n",
       "      <th></th>\n",
       "      <th>CRIM</th>\n",
       "      <th>ZN</th>\n",
       "      <th>INDUS</th>\n",
       "      <th>CHAS</th>\n",
       "      <th>NOX</th>\n",
       "      <th>RM</th>\n",
       "      <th>AGE</th>\n",
       "      <th>DIS</th>\n",
       "      <th>RAD</th>\n",
       "      <th>TAX</th>\n",
       "      <th>PTRATIO</th>\n",
       "      <th>B</th>\n",
       "      <th>LSTAT</th>\n",
       "      <th>PRICE</th>\n",
       "    </tr>\n",
       "  </thead>\n",
       "  <tbody>\n",
       "    <tr>\n",
       "      <td>0</td>\n",
       "      <td>0.00632</td>\n",
       "      <td>18.0</td>\n",
       "      <td>2.31</td>\n",
       "      <td>0.0</td>\n",
       "      <td>0.538</td>\n",
       "      <td>6.575</td>\n",
       "      <td>65.2</td>\n",
       "      <td>4.0900</td>\n",
       "      <td>1.0</td>\n",
       "      <td>296.0</td>\n",
       "      <td>15.3</td>\n",
       "      <td>396.90</td>\n",
       "      <td>4.98</td>\n",
       "      <td>24.0</td>\n",
       "    </tr>\n",
       "    <tr>\n",
       "      <td>1</td>\n",
       "      <td>0.02731</td>\n",
       "      <td>0.0</td>\n",
       "      <td>7.07</td>\n",
       "      <td>0.0</td>\n",
       "      <td>0.469</td>\n",
       "      <td>6.421</td>\n",
       "      <td>78.9</td>\n",
       "      <td>4.9671</td>\n",
       "      <td>2.0</td>\n",
       "      <td>242.0</td>\n",
       "      <td>17.8</td>\n",
       "      <td>396.90</td>\n",
       "      <td>9.14</td>\n",
       "      <td>21.6</td>\n",
       "    </tr>\n",
       "    <tr>\n",
       "      <td>2</td>\n",
       "      <td>0.02729</td>\n",
       "      <td>0.0</td>\n",
       "      <td>7.07</td>\n",
       "      <td>0.0</td>\n",
       "      <td>0.469</td>\n",
       "      <td>7.185</td>\n",
       "      <td>61.1</td>\n",
       "      <td>4.9671</td>\n",
       "      <td>2.0</td>\n",
       "      <td>242.0</td>\n",
       "      <td>17.8</td>\n",
       "      <td>392.83</td>\n",
       "      <td>4.03</td>\n",
       "      <td>34.7</td>\n",
       "    </tr>\n",
       "    <tr>\n",
       "      <td>3</td>\n",
       "      <td>0.03237</td>\n",
       "      <td>0.0</td>\n",
       "      <td>2.18</td>\n",
       "      <td>0.0</td>\n",
       "      <td>0.458</td>\n",
       "      <td>6.998</td>\n",
       "      <td>45.8</td>\n",
       "      <td>6.0622</td>\n",
       "      <td>3.0</td>\n",
       "      <td>222.0</td>\n",
       "      <td>18.7</td>\n",
       "      <td>394.63</td>\n",
       "      <td>2.94</td>\n",
       "      <td>33.4</td>\n",
       "    </tr>\n",
       "    <tr>\n",
       "      <td>4</td>\n",
       "      <td>0.06905</td>\n",
       "      <td>0.0</td>\n",
       "      <td>2.18</td>\n",
       "      <td>0.0</td>\n",
       "      <td>0.458</td>\n",
       "      <td>7.147</td>\n",
       "      <td>54.2</td>\n",
       "      <td>6.0622</td>\n",
       "      <td>3.0</td>\n",
       "      <td>222.0</td>\n",
       "      <td>18.7</td>\n",
       "      <td>396.90</td>\n",
       "      <td>5.33</td>\n",
       "      <td>36.2</td>\n",
       "    </tr>\n",
       "  </tbody>\n",
       "</table>\n",
       "</div>"
      ],
      "text/plain": [
       "      CRIM    ZN  INDUS  CHAS    NOX     RM   AGE     DIS  RAD    TAX  \\\n",
       "0  0.00632  18.0   2.31   0.0  0.538  6.575  65.2  4.0900  1.0  296.0   \n",
       "1  0.02731   0.0   7.07   0.0  0.469  6.421  78.9  4.9671  2.0  242.0   \n",
       "2  0.02729   0.0   7.07   0.0  0.469  7.185  61.1  4.9671  2.0  242.0   \n",
       "3  0.03237   0.0   2.18   0.0  0.458  6.998  45.8  6.0622  3.0  222.0   \n",
       "4  0.06905   0.0   2.18   0.0  0.458  7.147  54.2  6.0622  3.0  222.0   \n",
       "\n",
       "   PTRATIO       B  LSTAT  PRICE  \n",
       "0     15.3  396.90   4.98   24.0  \n",
       "1     17.8  396.90   9.14   21.6  \n",
       "2     17.8  392.83   4.03   34.7  \n",
       "3     18.7  394.63   2.94   33.4  \n",
       "4     18.7  396.90   5.33   36.2  "
      ]
     },
     "execution_count": 4,
     "metadata": {},
     "output_type": "execute_result"
    }
   ],
   "source": [
    "df=pd.DataFrame(X, columns=boston.feature_names)\n",
    "df['PRICE']=y\n",
    "df.head()"
   ]
  },
  {
   "cell_type": "code",
   "execution_count": 6,
   "metadata": {},
   "outputs": [
    {
     "data": {
      "text/plain": [
       "(506, 14)"
      ]
     },
     "execution_count": 6,
     "metadata": {},
     "output_type": "execute_result"
    }
   ],
   "source": [
    "df.shape"
   ]
  },
  {
   "cell_type": "code",
   "execution_count": 35,
   "metadata": {},
   "outputs": [
    {
     "name": "stdout",
     "output_type": "stream",
     "text": [
      "<class 'pandas.core.frame.DataFrame'>\n",
      "RangeIndex: 506 entries, 0 to 505\n",
      "Data columns (total 14 columns):\n",
      "CRIM       506 non-null float64\n",
      "ZN         506 non-null float64\n",
      "INDUS      506 non-null float64\n",
      "CHAS       506 non-null float64\n",
      "NOX        506 non-null float64\n",
      "RM         506 non-null float64\n",
      "AGE        506 non-null float64\n",
      "DIS        506 non-null float64\n",
      "RAD        506 non-null float64\n",
      "TAX        506 non-null float64\n",
      "PTRATIO    506 non-null float64\n",
      "B          506 non-null float64\n",
      "LSTAT      506 non-null float64\n",
      "PRICE      506 non-null float64\n",
      "dtypes: float64(14)\n",
      "memory usage: 55.5 KB\n"
     ]
    }
   ],
   "source": [
    "df.info()"
   ]
  },
  {
   "cell_type": "code",
   "execution_count": 11,
   "metadata": {},
   "outputs": [
    {
     "data": {
      "text/plain": [
       "0.0    471\n",
       "1.0     35\n",
       "Name: CHAS, dtype: int64"
      ]
     },
     "execution_count": 11,
     "metadata": {},
     "output_type": "execute_result"
    }
   ],
   "source": [
    "df['CHAS'].value_counts()"
   ]
  },
  {
   "cell_type": "code",
   "execution_count": 12,
   "metadata": {},
   "outputs": [],
   "source": [
    "# 훈련/테스트 분리\n",
    "from sklearn.model_selection import train_test_split\n",
    "\n",
    "X_train, X_test, y_train, y_test=train_test_split(X, y)"
   ]
  },
  {
   "cell_type": "code",
   "execution_count": 16,
   "metadata": {},
   "outputs": [],
   "source": [
    "# 선형모델은 feature간 scale에 영향을 많이 받는다. - (선형모델, KNN, SVM)\n",
    "from sklearn.preprocessing import StandardScaler\n",
    "scaler=StandardScaler()\n",
    "X_train_scaled=scaler.fit_transform(X_train)\n",
    "X_test_scaled=scaler.transform(X_test)"
   ]
  },
  {
   "cell_type": "code",
   "execution_count": 32,
   "metadata": {},
   "outputs": [],
   "source": [
    "# 평가지표 출력함수\n",
    "from sklearn.metrics import mean_squared_error, r2_score\n",
    "def print_metrics(y, pred, title=None):\n",
    "    mse=mean_squared_error(y, pred)\n",
    "    rmse=np.sqrt(mse)\n",
    "    r2=r2_score(y, pred)\n",
    "    if title:\n",
    "        print(title)\n",
    "    print(f'MSE:{mse}, RMSE:{rmse}, R^2:{r2}')"
   ]
  },
  {
   "cell_type": "markdown",
   "metadata": {},
   "source": [
    "## LinearRegression\n",
    "- 가장 기본적인 선형 회귀 모델"
   ]
  },
  {
   "cell_type": "code",
   "execution_count": 26,
   "metadata": {},
   "outputs": [],
   "source": [
    "from sklearn.linear_model import LinearRegression\n",
    "\n",
    "lr=LinearRegression()\n",
    "lr.fit(X_train_scaled, y_train)\n",
    "pred_train=lr.predict(X_train_scaled)\n",
    "pred_test=lr.predict(X_test_scaled)"
   ]
  },
  {
   "cell_type": "code",
   "execution_count": 27,
   "metadata": {},
   "outputs": [
    {
     "data": {
      "text/plain": [
       "array([20.6, 19.9, 28.4, 23.9, 25. ])"
      ]
     },
     "execution_count": 27,
     "metadata": {},
     "output_type": "execute_result"
    }
   ],
   "source": [
    "y_train[:5]"
   ]
  },
  {
   "cell_type": "code",
   "execution_count": 28,
   "metadata": {},
   "outputs": [
    {
     "data": {
      "text/plain": [
       "array([15.67213619, 19.17019804, 30.69986452, 27.56609604, 28.20464848])"
      ]
     },
     "execution_count": 28,
     "metadata": {},
     "output_type": "execute_result"
    }
   ],
   "source": [
    "pred_train[:5]"
   ]
  },
  {
   "cell_type": "code",
   "execution_count": 33,
   "metadata": {},
   "outputs": [
    {
     "name": "stdout",
     "output_type": "stream",
     "text": [
      "train\n",
      "MSE:387.84388269180135, RMSE:19.69375237713223, R^2:-3.474945422308248\n"
     ]
    }
   ],
   "source": [
    "print_metrics(y_train, pred_train, \"train\")"
   ]
  },
  {
   "cell_type": "code",
   "execution_count": 34,
   "metadata": {},
   "outputs": [
    {
     "name": "stdout",
     "output_type": "stream",
     "text": [
      "test\n",
      "MSE:388.2745287416708, RMSE:19.704682914009826, R^2:-3.9998028606919362\n"
     ]
    }
   ],
   "source": [
    "print_metrics(y_test, pred_test, \"test\")"
   ]
  },
  {
   "cell_type": "code",
   "execution_count": 39,
   "metadata": {},
   "outputs": [
    {
     "data": {
      "text/plain": [
       "array([-1.00281999e+00,  9.60624283e-01, -5.57518062e-04,  7.25318817e-01,\n",
       "       -2.03411536e+00,  2.78708920e+00, -5.85255905e-02, -3.19619044e+00,\n",
       "        2.31259757e+00, -1.82360972e+00, -2.04814809e+00,  6.87347978e-01,\n",
       "       -3.75229281e+00])"
      ]
     },
     "execution_count": 39,
     "metadata": {},
     "output_type": "execute_result"
    }
   ],
   "source": [
    "# 가중치 조회\n",
    "weights=lr.coef_\n",
    "weights"
   ]
  },
  {
   "cell_type": "code",
   "execution_count": 40,
   "metadata": {},
   "outputs": [
    {
     "data": {
      "text/plain": [
       "CRIM      -1.002820\n",
       "ZN         0.960624\n",
       "INDUS     -0.000558\n",
       "CHAS       0.725319\n",
       "NOX       -2.034115\n",
       "RM         2.787089\n",
       "AGE       -0.058526\n",
       "DIS       -3.196190\n",
       "RAD        2.312598\n",
       "TAX       -1.823610\n",
       "PTRATIO   -2.048148\n",
       "B          0.687348\n",
       "LSTAT     -3.752293\n",
       "dtype: float64"
      ]
     },
     "execution_count": 40,
     "metadata": {},
     "output_type": "execute_result"
    }
   ],
   "source": [
    "weights_ser=pd.Series(weights, index=boston.feature_names)\n",
    "weights_ser"
   ]
  },
  {
   "cell_type": "code",
   "execution_count": 41,
   "metadata": {},
   "outputs": [
    {
     "data": {
      "text/plain": [
       "22.47097625329816"
      ]
     },
     "execution_count": 41,
     "metadata": {},
     "output_type": "execute_result"
    }
   ],
   "source": [
    "intercept=lr.intercept_   # 절편\n",
    "intercept"
   ]
  },
  {
   "cell_type": "code",
   "execution_count": null,
   "metadata": {},
   "outputs": [],
   "source": []
  },
  {
   "cell_type": "markdown",
   "metadata": {},
   "source": [
    "## 규제 (Regularization)\n",
    "- 선형 회귀 모델에서 과적합 문제를 해결하기 위해 가중치(회귀계수)에 페널티 값을 적용하는 것.\n",
    "- 입력데이터의 Feature들이 너무 많은 경우 과적합이 발생.\n",
    "    - Feature수에 비해 관측치 수가 적은 경우 모델이 복잡해 지면서 과적합이 발생한다.\n",
    "- 해결\n",
    "    - 데이터를 더 수집한다. \n",
    "    - Feature selection\n",
    "        - 불필요한 Features들을 제거한다.\n",
    "    - 규제 (Regularization) 을 통해 Feature들을 제한한다.\n",
    "    "
   ]
  },
  {
   "cell_type": "markdown",
   "metadata": {},
   "source": [
    "## Ridge Regression\n",
    "- 손실함수(loss function)에 규제항으로 $\\alpha \\sum_{i=1}^{n}{w_{i}^{2}}$ (L2 Normm)을 더해준다.\n",
    "- $\\alpha$는 하이퍼파라미터로 모델을 얼마나 많이 규제할지 조절한다. \n",
    "    - $\\alpha = 0$ 에 가까울수록 규제가 약해진다. (0일 경우 선형 회귀동일)\n",
    "    - $\\alpha$ 가 커질 수록 모든 가중치가 작아져 입력데이터의 Feature들 중 중요하지 않은 Feature의 output에 대한 영향력이 작아지게 된다.\n",
    "\n",
    "$$\n",
    "\\text{손실함수}(w) = \\text{MSE}(w) + \\alpha \\sum_{i=1}^{n}{w_{i}^{2}}\n",
    "$$\n",
    " \n",
    "- $\\text{MSE}(w)$ : 오차를 줄여주는 역할\n",
    "- $\\alpha \\sum_{i=1}^{n}{w_{i}^{2}}$ : 과적합을 줄여주는 역할\n",
    "    - 𝛼 값이 작을수록 규제가 약해진다."
   ]
  },
  {
   "cell_type": "code",
   "execution_count": 43,
   "metadata": {
    "scrolled": true
   },
   "outputs": [
    {
     "data": {
      "text/plain": [
       "Ridge(alpha=1.0, copy_X=True, fit_intercept=True, max_iter=None,\n",
       "      normalize=False, random_state=None, solver='auto', tol=0.001)"
      ]
     },
     "execution_count": 43,
     "metadata": {},
     "output_type": "execute_result"
    }
   ],
   "source": [
    "from sklearn.linear_model import Ridge\n",
    "ridge=Ridge()\n",
    "ridge.fit(X_train, y_train)"
   ]
  },
  {
   "cell_type": "code",
   "execution_count": 44,
   "metadata": {},
   "outputs": [],
   "source": [
    "pred_train=ridge.predict(X_train_scaled)\n",
    "pred_test=ridge.predict(X_test_scaled)"
   ]
  },
  {
   "cell_type": "code",
   "execution_count": 45,
   "metadata": {},
   "outputs": [
    {
     "name": "stdout",
     "output_type": "stream",
     "text": [
      "MSE:141.96534990118988, RMSE:11.914921313260523, R^2:-0.6379971968554856\n"
     ]
    }
   ],
   "source": [
    "print_metrics(y_train, pred_train)"
   ]
  },
  {
   "cell_type": "code",
   "execution_count": 47,
   "metadata": {},
   "outputs": [
    {
     "name": "stdout",
     "output_type": "stream",
     "text": [
      "MSE:136.99978698077277, RMSE:11.704690810985687, R^2:-0.7641433474416324\n"
     ]
    }
   ],
   "source": [
    "print_metrics(y_test, pred_test)"
   ]
  },
  {
   "cell_type": "code",
   "execution_count": null,
   "metadata": {},
   "outputs": [],
   "source": []
  },
  {
   "cell_type": "code",
   "execution_count": null,
   "metadata": {},
   "outputs": [],
   "source": []
  },
  {
   "cell_type": "markdown",
   "metadata": {},
   "source": [
    "## 규제 alpha 에 따른 weight 변화"
   ]
  },
  {
   "cell_type": "code",
   "execution_count": 57,
   "metadata": {},
   "outputs": [
    {
     "data": {
      "image/png": "[encoded data removed]",
      "text/plain": [
       "<Figure size 504x1800 with 6 Axes>"
      ]
     },
     "metadata": {},
     "output_type": "display_data"
    }
   ],
   "source": [
    "alpha_list=[0,0.01,0.1,1,10,100]\n",
    "\n",
    "w_df=pd.DataFrame()\n",
    "plt.figure(figsize=(7,25), facecolor='w')\n",
    "\n",
    "for idx, alpha in enumerate(alpha_list):\n",
    "    ridge=Ridge(alpha=alpha)\n",
    "    ridge.fit(X_train, y_train)\n",
    "    \n",
    "    w=pd.Series(ridge.coef_, index=boston.feature_names)#.sort_values()\n",
    "    w_df[f'alpha {alpha}']=w\n",
    "    \n",
    "    plt.subplot(6,1,idx+1)\n",
    "    \n",
    "    w_sort=w.sort_values()\n",
    "    plt.bar(x=w_sort.index, height=w_sort)\n",
    "    plt.xticks(rotation=45)\n",
    "    plt.ylim(-20,20)\n",
    "    plt.title(f'alpha {alpha}')"
   ]
  },
  {
   "cell_type": "code",
   "execution_count": 53,
   "metadata": {},
   "outputs": [
    {
     "data": {
      "text/html": [
       "<div>\n",
       "<style scoped>\n",
       "    .dataframe tbody tr th:only-of-type {\n",
       "        vertical-align: middle;\n",
       "    }\n",
       "\n",
       "    .dataframe tbody tr th {\n",
       "        vertical-align: top;\n",
       "    }\n",
       "\n",
       "    .dataframe thead th {\n",
       "        text-align: right;\n",
       "    }\n",
       "</style>\n",
       "<table border=\"1\" class=\"dataframe\">\n",
       "  <thead>\n",
       "    <tr style=\"text-align: right;\">\n",
       "      <th></th>\n",
       "      <th>alpha 0</th>\n",
       "      <th>alpha 0.01</th>\n",
       "      <th>alpha 0.1</th>\n",
       "      <th>alpha 1</th>\n",
       "      <th>alpha 10</th>\n",
       "      <th>alpha 100</th>\n",
       "    </tr>\n",
       "  </thead>\n",
       "  <tbody>\n",
       "    <tr>\n",
       "      <td>CRIM</td>\n",
       "      <td>-0.119251</td>\n",
       "      <td>-0.119217</td>\n",
       "      <td>-0.118935</td>\n",
       "      <td>-0.117470</td>\n",
       "      <td>-0.116343</td>\n",
       "      <td>-0.111797</td>\n",
       "    </tr>\n",
       "    <tr>\n",
       "      <td>ZN</td>\n",
       "      <td>0.042341</td>\n",
       "      <td>0.042385</td>\n",
       "      <td>0.042753</td>\n",
       "      <td>0.044836</td>\n",
       "      <td>0.048739</td>\n",
       "      <td>0.055612</td>\n",
       "    </tr>\n",
       "    <tr>\n",
       "      <td>INDUS</td>\n",
       "      <td>-0.000081</td>\n",
       "      <td>-0.000729</td>\n",
       "      <td>-0.006099</td>\n",
       "      <td>-0.035123</td>\n",
       "      <td>-0.068768</td>\n",
       "      <td>-0.082678</td>\n",
       "    </tr>\n",
       "    <tr>\n",
       "      <td>CHAS</td>\n",
       "      <td>2.772909</td>\n",
       "      <td>2.771938</td>\n",
       "      <td>2.763127</td>\n",
       "      <td>2.672637</td>\n",
       "      <td>1.986265</td>\n",
       "      <td>0.580536</td>\n",
       "    </tr>\n",
       "    <tr>\n",
       "      <td>NOX</td>\n",
       "      <td>-17.675712</td>\n",
       "      <td>-17.523891</td>\n",
       "      <td>-16.266579</td>\n",
       "      <td>-9.475603</td>\n",
       "      <td>-1.843427</td>\n",
       "      <td>-0.198456</td>\n",
       "    </tr>\n",
       "    <tr>\n",
       "      <td>RM</td>\n",
       "      <td>3.959372</td>\n",
       "      <td>3.960846</td>\n",
       "      <td>3.972746</td>\n",
       "      <td>4.019602</td>\n",
       "      <td>3.767852</td>\n",
       "      <td>2.092832</td>\n",
       "    </tr>\n",
       "    <tr>\n",
       "      <td>AGE</td>\n",
       "      <td>-0.002129</td>\n",
       "      <td>-0.002263</td>\n",
       "      <td>-0.003368</td>\n",
       "      <td>-0.009140</td>\n",
       "      <td>-0.012263</td>\n",
       "      <td>0.006034</td>\n",
       "    </tr>\n",
       "    <tr>\n",
       "      <td>DIS</td>\n",
       "      <td>-1.595156</td>\n",
       "      <td>-1.592808</td>\n",
       "      <td>-1.573378</td>\n",
       "      <td>-1.468910</td>\n",
       "      <td>-1.355508</td>\n",
       "      <td>-1.224840</td>\n",
       "    </tr>\n",
       "    <tr>\n",
       "      <td>RAD</td>\n",
       "      <td>0.265722</td>\n",
       "      <td>0.265357</td>\n",
       "      <td>0.262345</td>\n",
       "      <td>0.246956</td>\n",
       "      <td>0.242964</td>\n",
       "      <td>0.287225</td>\n",
       "    </tr>\n",
       "    <tr>\n",
       "      <td>TAX</td>\n",
       "      <td>-0.010753</td>\n",
       "      <td>-0.010767</td>\n",
       "      <td>-0.010878</td>\n",
       "      <td>-0.011511</td>\n",
       "      <td>-0.012745</td>\n",
       "      <td>-0.014654</td>\n",
       "    </tr>\n",
       "    <tr>\n",
       "      <td>PTRATIO</td>\n",
       "      <td>-0.979893</td>\n",
       "      <td>-0.978069</td>\n",
       "      <td>-0.962990</td>\n",
       "      <td>-0.882871</td>\n",
       "      <td>-0.812879</td>\n",
       "      <td>-0.848427</td>\n",
       "    </tr>\n",
       "    <tr>\n",
       "      <td>B</td>\n",
       "      <td>0.007904</td>\n",
       "      <td>0.007910</td>\n",
       "      <td>0.007962</td>\n",
       "      <td>0.008239</td>\n",
       "      <td>0.008459</td>\n",
       "      <td>0.007524</td>\n",
       "    </tr>\n",
       "    <tr>\n",
       "      <td>LSTAT</td>\n",
       "      <td>-0.515469</td>\n",
       "      <td>-0.515539</td>\n",
       "      <td>-0.516144</td>\n",
       "      <td>-0.520893</td>\n",
       "      <td>-0.551194</td>\n",
       "      <td>-0.680337</td>\n",
       "    </tr>\n",
       "  </tbody>\n",
       "</table>\n",
       "</div>"
      ],
      "text/plain": [
       "           alpha 0  alpha 0.01  alpha 0.1   alpha 1  alpha 10  alpha 100\n",
       "CRIM     -0.119251   -0.119217  -0.118935 -0.117470 -0.116343  -0.111797\n",
       "ZN        0.042341    0.042385   0.042753  0.044836  0.048739   0.055612\n",
       "INDUS    -0.000081   -0.000729  -0.006099 -0.035123 -0.068768  -0.082678\n",
       "CHAS      2.772909    2.771938   2.763127  2.672637  1.986265   0.580536\n",
       "NOX     -17.675712  -17.523891 -16.266579 -9.475603 -1.843427  -0.198456\n",
       "RM        3.959372    3.960846   3.972746  4.019602  3.767852   2.092832\n",
       "AGE      -0.002129   -0.002263  -0.003368 -0.009140 -0.012263   0.006034\n",
       "DIS      -1.595156   -1.592808  -1.573378 -1.468910 -1.355508  -1.224840\n",
       "RAD       0.265722    0.265357   0.262345  0.246956  0.242964   0.287225\n",
       "TAX      -0.010753   -0.010767  -0.010878 -0.011511 -0.012745  -0.014654\n",
       "PTRATIO  -0.979893   -0.978069  -0.962990 -0.882871 -0.812879  -0.848427\n",
       "B         0.007904    0.007910   0.007962  0.008239  0.008459   0.007524\n",
       "LSTAT    -0.515469   -0.515539  -0.516144 -0.520893 -0.551194  -0.680337"
      ]
     },
     "execution_count": 53,
     "metadata": {},
     "output_type": "execute_result"
    }
   ],
   "source": [
    "w_df"
   ]
  },
  {
   "cell_type": "code",
   "execution_count": null,
   "metadata": {},
   "outputs": [],
   "source": []
  },
  {
   "cell_type": "markdown",
   "metadata": {},
   "source": [
    "## Lasso(Least Absolut Shrinkage and Selection Operator) Regression\n",
    "\n",
    "- 손실함수에 규제항으로 $\\alpha \\sum_{i=1}^{n}{\\left| w_i \\right|}$ (L1 Norm)더한다.\n",
    "- Lasso 회귀의 상대적으로 덜 중요한 특성의 가중치를 0으로 만들어 자동으로 Feature Selection이 된다.\n",
    "\n",
    "$$\n",
    "\\text{손실함수}(w) = \\text{MSE}(w) + \\alpha \\sum_{i=1}^{n}{\\left| w_i \\right|}\n",
    "$$"
   ]
  },
  {
   "cell_type": "code",
   "execution_count": 58,
   "metadata": {},
   "outputs": [],
   "source": [
    "from sklearn.linear_model import Lasso"
   ]
  },
  {
   "cell_type": "markdown",
   "metadata": {},
   "source": [
    "## 규제 alpha 에 따른 weight 변화"
   ]
  },
  {
   "cell_type": "code",
   "execution_count": 69,
   "metadata": {},
   "outputs": [
    {
     "name": "stderr",
     "output_type": "stream",
     "text": [
      "C:\\Users\\dearm\\AppData\\Local\\Continuum\\anaconda3\\lib\\site-packages\\ipykernel_launcher.py:7: UserWarning: With alpha=0, this algorithm does not converge well. You are advised to use the LinearRegression estimator\n",
      "  import sys\n",
      "C:\\Users\\dearm\\AppData\\Local\\Continuum\\anaconda3\\lib\\site-packages\\sklearn\\linear_model\\coordinate_descent.py:475: UserWarning: Coordinate descent with no regularization may lead to unexpected results and is discouraged.\n",
      "  positive)\n",
      "C:\\Users\\dearm\\AppData\\Local\\Continuum\\anaconda3\\lib\\site-packages\\sklearn\\linear_model\\coordinate_descent.py:475: ConvergenceWarning: Objective did not converge. You might want to increase the number of iterations. Duality gap: 4149.728756115841, tolerance: 3.284796073878628\n",
      "  positive)\n"
     ]
    },
    {
     "name": "stdout",
     "output_type": "stream",
     "text": [
      "train\n",
      "MSE:21.898304781613938, RMSE:4.6795624562146765, R^2:0.7473372067681562\n",
      "test\n",
      "MSE:22.24457977565057, RMSE:4.716415988401635, R^2:0.713557018644444\n",
      "----------------------------------------------------------------\n",
      "train\n",
      "MSE:21.902875951395405, RMSE:4.6800508492318125, R^2:0.7472844645793502\n",
      "test\n",
      "MSE:22.253736781498, RMSE:4.717386647445596, R^2:0.7134391040746171\n",
      "----------------------------------------------------------------\n",
      "train\n",
      "MSE:22.3377446407849, RMSE:4.726282327663562, R^2:0.7422669466095357\n",
      "test\n",
      "MSE:22.79417682715157, RMSE:4.774324750909972, R^2:0.70647986908424\n",
      "----------------------------------------------------------------\n",
      "train\n",
      "MSE:28.333040696937086, RMSE:5.322878985749825, R^2:0.673093178918116\n",
      "test\n",
      "MSE:28.223339614000864, RMSE:5.312564316222521, R^2:0.6365686551789069\n",
      "----------------------------------------------------------------\n",
      "train\n",
      "MSE:86.67008110497699, RMSE:9.309676745460981, R^2:0.0\n",
      "test\n",
      "MSE:77.71865427407687, RMSE:8.81581841204076, R^2:-0.0007814605505276351\n",
      "----------------------------------------------------------------\n",
      "train\n",
      "MSE:86.67008110497699, RMSE:9.309676745460981, R^2:0.0\n",
      "test\n",
      "MSE:77.71865427407687, RMSE:8.81581841204076, R^2:-0.0007814605505276351\n",
      "----------------------------------------------------------------\n"
     ]
    },
    {
     "data": {
      "image/png": "[encoded data removed]",
      "text/plain": [
       "<Figure size 504x2160 with 6 Axes>"
      ]
     },
     "metadata": {},
     "output_type": "display_data"
    }
   ],
   "source": [
    "alpha_list=[0,0.01,0.1,1,10,100]\n",
    "w_df=pd.DataFrame()\n",
    "\n",
    "plt.figure(figsize=(7,30), facecolor='w')\n",
    "for idx, alpha in enumerate(alpha_list, start=1):\n",
    "    lasso=Lasso(alpha=alpha)\n",
    "    lasso.fit(X_train_scaled, y_train)\n",
    "    \n",
    "    w=pd.Series(lasso.coef_, index=boston.feature_names)\n",
    "    w_df[f'alpha {alpha}']=w\n",
    "    \n",
    "    w_sort=w.sort_values()\n",
    "    plt.subplot(len(alpha_list), 1, idx)\n",
    "    plt.bar(x=w_sort.index, height=w_sort)\n",
    "    plt.xticks(rotation=45)\n",
    "    plt.ylim(-20, 20)\n",
    "    plt.title(f'alpha {alpha}')\n",
    "    \n",
    "    pred_train=lasso.predict(X_train_scaled)\n",
    "    pred_test=lasso.predict(X_test_scaled)\n",
    "    print_metrics(y_train, pred_train, \"train\")\n",
    "    print_metrics(y_test, pred_test,\"test\")\n",
    "    print('----------------------------------------------------------------')"
   ]
  },
  {
   "cell_type": "code",
   "execution_count": 64,
   "metadata": {},
   "outputs": [
    {
     "data": {
      "text/html": [
       "<div>\n",
       "<style scoped>\n",
       "    .dataframe tbody tr th:only-of-type {\n",
       "        vertical-align: middle;\n",
       "    }\n",
       "\n",
       "    .dataframe tbody tr th {\n",
       "        vertical-align: top;\n",
       "    }\n",
       "\n",
       "    .dataframe thead th {\n",
       "        text-align: right;\n",
       "    }\n",
       "</style>\n",
       "<table border=\"1\" class=\"dataframe\">\n",
       "  <thead>\n",
       "    <tr style=\"text-align: right;\">\n",
       "      <th></th>\n",
       "      <th>alpha 0</th>\n",
       "      <th>alpha 0.01</th>\n",
       "      <th>alpha 0.1</th>\n",
       "      <th>alpha 1</th>\n",
       "      <th>alpha 10</th>\n",
       "      <th>alpha 100</th>\n",
       "    </tr>\n",
       "  </thead>\n",
       "  <tbody>\n",
       "    <tr>\n",
       "      <td>CRIM</td>\n",
       "      <td>-1.002820</td>\n",
       "      <td>-0.970609</td>\n",
       "      <td>-0.688873</td>\n",
       "      <td>-0.000000</td>\n",
       "      <td>-0.0</td>\n",
       "      <td>-0.0</td>\n",
       "    </tr>\n",
       "    <tr>\n",
       "      <td>ZN</td>\n",
       "      <td>0.960624</td>\n",
       "      <td>0.930042</td>\n",
       "      <td>0.639356</td>\n",
       "      <td>0.000000</td>\n",
       "      <td>0.0</td>\n",
       "      <td>0.0</td>\n",
       "    </tr>\n",
       "    <tr>\n",
       "      <td>INDUS</td>\n",
       "      <td>-0.000558</td>\n",
       "      <td>-0.008433</td>\n",
       "      <td>-0.079139</td>\n",
       "      <td>-0.000000</td>\n",
       "      <td>-0.0</td>\n",
       "      <td>-0.0</td>\n",
       "    </tr>\n",
       "    <tr>\n",
       "      <td>CHAS</td>\n",
       "      <td>0.725319</td>\n",
       "      <td>0.726607</td>\n",
       "      <td>0.742604</td>\n",
       "      <td>0.161369</td>\n",
       "      <td>0.0</td>\n",
       "      <td>0.0</td>\n",
       "    </tr>\n",
       "    <tr>\n",
       "      <td>NOX</td>\n",
       "      <td>-2.034115</td>\n",
       "      <td>-1.993013</td>\n",
       "      <td>-1.587996</td>\n",
       "      <td>-0.000000</td>\n",
       "      <td>-0.0</td>\n",
       "      <td>-0.0</td>\n",
       "    </tr>\n",
       "    <tr>\n",
       "      <td>RM</td>\n",
       "      <td>2.787089</td>\n",
       "      <td>2.799800</td>\n",
       "      <td>2.940989</td>\n",
       "      <td>2.841972</td>\n",
       "      <td>0.0</td>\n",
       "      <td>0.0</td>\n",
       "    </tr>\n",
       "    <tr>\n",
       "      <td>AGE</td>\n",
       "      <td>-0.058526</td>\n",
       "      <td>-0.039065</td>\n",
       "      <td>-0.000000</td>\n",
       "      <td>-0.000000</td>\n",
       "      <td>-0.0</td>\n",
       "      <td>-0.0</td>\n",
       "    </tr>\n",
       "    <tr>\n",
       "      <td>DIS</td>\n",
       "      <td>-3.196190</td>\n",
       "      <td>-3.118506</td>\n",
       "      <td>-2.465649</td>\n",
       "      <td>-0.000000</td>\n",
       "      <td>0.0</td>\n",
       "      <td>0.0</td>\n",
       "    </tr>\n",
       "    <tr>\n",
       "      <td>RAD</td>\n",
       "      <td>2.312598</td>\n",
       "      <td>2.173506</td>\n",
       "      <td>0.920046</td>\n",
       "      <td>-0.000000</td>\n",
       "      <td>-0.0</td>\n",
       "      <td>-0.0</td>\n",
       "    </tr>\n",
       "    <tr>\n",
       "      <td>TAX</td>\n",
       "      <td>-1.823610</td>\n",
       "      <td>-1.712211</td>\n",
       "      <td>-0.710466</td>\n",
       "      <td>-0.000000</td>\n",
       "      <td>-0.0</td>\n",
       "      <td>-0.0</td>\n",
       "    </tr>\n",
       "    <tr>\n",
       "      <td>PTRATIO</td>\n",
       "      <td>-2.048148</td>\n",
       "      <td>-2.032198</td>\n",
       "      <td>-1.881878</td>\n",
       "      <td>-1.240312</td>\n",
       "      <td>-0.0</td>\n",
       "      <td>-0.0</td>\n",
       "    </tr>\n",
       "    <tr>\n",
       "      <td>B</td>\n",
       "      <td>0.687348</td>\n",
       "      <td>0.673228</td>\n",
       "      <td>0.556060</td>\n",
       "      <td>0.000000</td>\n",
       "      <td>0.0</td>\n",
       "      <td>0.0</td>\n",
       "    </tr>\n",
       "    <tr>\n",
       "      <td>LSTAT</td>\n",
       "      <td>-3.752293</td>\n",
       "      <td>-3.758460</td>\n",
       "      <td>-3.759527</td>\n",
       "      <td>-3.697000</td>\n",
       "      <td>-0.0</td>\n",
       "      <td>-0.0</td>\n",
       "    </tr>\n",
       "  </tbody>\n",
       "</table>\n",
       "</div>"
      ],
      "text/plain": [
       "          alpha 0  alpha 0.01  alpha 0.1   alpha 1  alpha 10  alpha 100\n",
       "CRIM    -1.002820   -0.970609  -0.688873 -0.000000      -0.0       -0.0\n",
       "ZN       0.960624    0.930042   0.639356  0.000000       0.0        0.0\n",
       "INDUS   -0.000558   -0.008433  -0.079139 -0.000000      -0.0       -0.0\n",
       "CHAS     0.725319    0.726607   0.742604  0.161369       0.0        0.0\n",
       "NOX     -2.034115   -1.993013  -1.587996 -0.000000      -0.0       -0.0\n",
       "RM       2.787089    2.799800   2.940989  2.841972       0.0        0.0\n",
       "AGE     -0.058526   -0.039065  -0.000000 -0.000000      -0.0       -0.0\n",
       "DIS     -3.196190   -3.118506  -2.465649 -0.000000       0.0        0.0\n",
       "RAD      2.312598    2.173506   0.920046 -0.000000      -0.0       -0.0\n",
       "TAX     -1.823610   -1.712211  -0.710466 -0.000000      -0.0       -0.0\n",
       "PTRATIO -2.048148   -2.032198  -1.881878 -1.240312      -0.0       -0.0\n",
       "B        0.687348    0.673228   0.556060  0.000000       0.0        0.0\n",
       "LSTAT   -3.752293   -3.758460  -3.759527 -3.697000      -0.0       -0.0"
      ]
     },
     "execution_count": 64,
     "metadata": {},
     "output_type": "execute_result"
    }
   ],
   "source": [
    "w_df"
   ]
  },
  {
   "cell_type": "code",
   "execution_count": 70,
   "metadata": {},
   "outputs": [],
   "source": [
    "# 교차검증\n",
    "from sklearn.model_selection import cross_val_score"
   ]
  },
  {
   "cell_type": "code",
   "execution_count": 77,
   "metadata": {},
   "outputs": [
    {
     "data": {
      "text/plain": [
       "array([-21.43350386, -57.36188333, -64.6815532 ])"
      ]
     },
     "execution_count": 77,
     "metadata": {},
     "output_type": "execute_result"
    }
   ],
   "source": [
    "score=cross_val_score(Lasso(alpha=1), X,y, cv=3, scoring='neg_mean_squared_error')\n",
    "score"
   ]
  },
  {
   "cell_type": "code",
   "execution_count": 78,
   "metadata": {},
   "outputs": [
    {
     "data": {
      "text/plain": [
       "array([21.43350386, 57.36188333, 64.6815532 ])"
      ]
     },
     "execution_count": 78,
     "metadata": {},
     "output_type": "execute_result"
    }
   ],
   "source": [
    "score*-1  # 원래 값"
   ]
  },
  {
   "cell_type": "markdown",
   "metadata": {},
   "source": [
    "## 확률적 경사하강법을 사용한 회귀처리\n",
    " - SGDRegressor, SGDClassifier\n",
    " - 순간변화율(미분계수)이 0이 되도록 가중치를 구한다."
   ]
  },
  {
   "cell_type": "code",
   "execution_count": 3,
   "metadata": {},
   "outputs": [],
   "source": [
    "from sklearn.datasets import make_regression\n",
    "X, y=make_regression(n_samples=100,\n",
    "                    n_features=1,\n",
    "                    n_informative=1,\n",
    "                    noise=50,\n",
    "                    random_state=1)"
   ]
  },
  {
   "cell_type": "code",
   "execution_count": 4,
   "metadata": {},
   "outputs": [],
   "source": [
    "from sklearn.linear_model import LinearRegression, SGDRegressor"
   ]
  },
  {
   "cell_type": "code",
   "execution_count": 5,
   "metadata": {},
   "outputs": [
    {
     "data": {
      "text/plain": [
       "(array([85.14546889]), 10.135071944054275)"
      ]
     },
     "execution_count": 5,
     "metadata": {},
     "output_type": "execute_result"
    }
   ],
   "source": [
    "lr=LinearRegression()  # 방정식을 이용한 풀이\n",
    "lr.fit(X,y)\n",
    "lr.coef_, lr.intercept_"
   ]
  },
  {
   "cell_type": "code",
   "execution_count": 7,
   "metadata": {},
   "outputs": [
    {
     "name": "stdout",
     "output_type": "stream",
     "text": [
      "-- Epoch 1\n",
      "Norm: 25.36, NNZs: 1, Bias: 6.355547, T: 100, Avg. loss: 3059.497670\n",
      "Total training time: 0.00 seconds.\n",
      "-- Epoch 2\n",
      "Norm: 37.50, NNZs: 1, Bias: 8.089313, T: 200, Avg. loss: 2193.965822\n",
      "Total training time: 0.00 seconds.\n",
      "-- Epoch 3\n",
      "Norm: 46.12, NNZs: 1, Bias: 9.094447, T: 300, Avg. loss: 1790.771253\n",
      "Total training time: 0.00 seconds.\n",
      "-- Epoch 4\n",
      "Norm: 52.63, NNZs: 1, Bias: 9.712881, T: 400, Avg. loss: 1551.054114\n",
      "Total training time: 0.00 seconds.\n",
      "-- Epoch 5\n",
      "Norm: 57.72, NNZs: 1, Bias: 10.157162, T: 500, Avg. loss: 1399.150647\n",
      "Total training time: 0.00 seconds.\n",
      "-- Epoch 6\n",
      "Norm: 61.85, NNZs: 1, Bias: 10.441023, T: 600, Avg. loss: 1297.457986\n",
      "Total training time: 0.00 seconds.\n",
      "-- Epoch 7\n",
      "Norm: 65.19, NNZs: 1, Bias: 10.536623, T: 700, Avg. loss: 1227.438679\n",
      "Total training time: 0.01 seconds.\n",
      "-- Epoch 8\n",
      "Norm: 67.95, NNZs: 1, Bias: 10.614551, T: 800, Avg. loss: 1178.805924\n",
      "Total training time: 0.01 seconds.\n",
      "-- Epoch 9\n",
      "Norm: 70.30, NNZs: 1, Bias: 10.671394, T: 900, Avg. loss: 1143.914142\n",
      "Total training time: 0.01 seconds.\n",
      "-- Epoch 10\n",
      "Norm: 72.26, NNZs: 1, Bias: 10.645143, T: 1000, Avg. loss: 1118.338544\n",
      "Total training time: 0.01 seconds.\n",
      "-- Epoch 11\n",
      "Norm: 73.90, NNZs: 1, Bias: 10.695094, T: 1100, Avg. loss: 1100.000652\n",
      "Total training time: 0.01 seconds.\n",
      "-- Epoch 12\n",
      "Norm: 75.32, NNZs: 1, Bias: 10.694219, T: 1200, Avg. loss: 1086.250842\n",
      "Total training time: 0.01 seconds.\n",
      "-- Epoch 13\n",
      "Norm: 76.51, NNZs: 1, Bias: 10.654854, T: 1300, Avg. loss: 1075.994147\n",
      "Total training time: 0.01 seconds.\n",
      "-- Epoch 14\n",
      "Norm: 77.58, NNZs: 1, Bias: 10.655724, T: 1400, Avg. loss: 1068.201368\n",
      "Total training time: 0.01 seconds.\n",
      "-- Epoch 15\n",
      "Norm: 78.52, NNZs: 1, Bias: 10.666823, T: 1500, Avg. loss: 1062.101623\n",
      "Total training time: 0.01 seconds.\n",
      "-- Epoch 16\n",
      "Norm: 79.31, NNZs: 1, Bias: 10.640147, T: 1600, Avg. loss: 1057.557606\n",
      "Total training time: 0.01 seconds.\n",
      "-- Epoch 17\n",
      "Norm: 79.95, NNZs: 1, Bias: 10.613392, T: 1700, Avg. loss: 1054.170780\n",
      "Total training time: 0.01 seconds.\n",
      "-- Epoch 18\n",
      "Norm: 80.52, NNZs: 1, Bias: 10.586380, T: 1800, Avg. loss: 1051.668189\n",
      "Total training time: 0.01 seconds.\n",
      "-- Epoch 19\n",
      "Norm: 81.05, NNZs: 1, Bias: 10.551190, T: 1900, Avg. loss: 1049.562184\n",
      "Total training time: 0.01 seconds.\n",
      "-- Epoch 20\n",
      "Norm: 81.50, NNZs: 1, Bias: 10.553029, T: 2000, Avg. loss: 1047.955582\n",
      "Total training time: 0.01 seconds.\n",
      "-- Epoch 21\n",
      "Norm: 81.90, NNZs: 1, Bias: 10.519377, T: 2100, Avg. loss: 1046.716511\n",
      "Total training time: 0.01 seconds.\n",
      "-- Epoch 22\n",
      "Norm: 82.23, NNZs: 1, Bias: 10.510373, T: 2200, Avg. loss: 1045.732848\n",
      "Total training time: 0.01 seconds.\n",
      "-- Epoch 23\n",
      "Norm: 82.53, NNZs: 1, Bias: 10.459616, T: 2300, Avg. loss: 1044.947405\n",
      "Total training time: 0.01 seconds.\n",
      "-- Epoch 24\n",
      "Norm: 82.81, NNZs: 1, Bias: 10.393844, T: 2400, Avg. loss: 1044.275988\n",
      "Total training time: 0.01 seconds.\n",
      "-- Epoch 25\n",
      "Norm: 83.04, NNZs: 1, Bias: 10.329374, T: 2500, Avg. loss: 1043.766292\n",
      "Total training time: 0.01 seconds.\n",
      "-- Epoch 26\n",
      "Norm: 83.25, NNZs: 1, Bias: 10.327241, T: 2600, Avg. loss: 1043.427295\n",
      "Total training time: 0.01 seconds.\n",
      "-- Epoch 27\n",
      "Norm: 83.44, NNZs: 1, Bias: 10.272531, T: 2700, Avg. loss: 1043.039767\n",
      "Total training time: 0.01 seconds.\n",
      "-- Epoch 28\n",
      "Norm: 83.62, NNZs: 1, Bias: 10.231101, T: 2800, Avg. loss: 1042.797853\n",
      "Total training time: 0.01 seconds.\n",
      "-- Epoch 29\n",
      "Norm: 83.79, NNZs: 1, Bias: 10.242063, T: 2900, Avg. loss: 1042.593261\n",
      "Total training time: 0.01 seconds.\n",
      "-- Epoch 30\n",
      "Norm: 83.92, NNZs: 1, Bias: 10.228596, T: 3000, Avg. loss: 1042.418178\n",
      "Total training time: 0.01 seconds.\n",
      "-- Epoch 31\n",
      "Norm: 84.05, NNZs: 1, Bias: 10.262503, T: 3100, Avg. loss: 1042.226099\n",
      "Total training time: 0.01 seconds.\n",
      "-- Epoch 32\n",
      "Norm: 84.17, NNZs: 1, Bias: 10.257798, T: 3200, Avg. loss: 1042.148164\n",
      "Total training time: 0.01 seconds.\n",
      "-- Epoch 33\n",
      "Norm: 84.25, NNZs: 1, Bias: 10.261548, T: 3300, Avg. loss: 1042.045988\n",
      "Total training time: 0.01 seconds.\n",
      "-- Epoch 34\n",
      "Norm: 84.35, NNZs: 1, Bias: 10.263267, T: 3400, Avg. loss: 1041.971521\n",
      "Total training time: 0.01 seconds.\n",
      "-- Epoch 35\n",
      "Norm: 84.41, NNZs: 1, Bias: 10.213045, T: 3500, Avg. loss: 1041.838064\n",
      "Total training time: 0.02 seconds.\n",
      "-- Epoch 36\n",
      "Norm: 84.49, NNZs: 1, Bias: 10.195939, T: 3600, Avg. loss: 1041.831112\n",
      "Total training time: 0.02 seconds.\n",
      "-- Epoch 37\n",
      "Norm: 84.54, NNZs: 1, Bias: 10.208835, T: 3700, Avg. loss: 1041.782727\n",
      "Total training time: 0.02 seconds.\n",
      "-- Epoch 38\n",
      "Norm: 84.60, NNZs: 1, Bias: 10.162421, T: 3800, Avg. loss: 1041.656487\n",
      "Total training time: 0.02 seconds.\n",
      "-- Epoch 39\n",
      "Norm: 84.62, NNZs: 1, Bias: 10.138565, T: 3900, Avg. loss: 1041.622973\n",
      "Total training time: 0.02 seconds.\n",
      "-- Epoch 40\n",
      "Norm: 84.66, NNZs: 1, Bias: 10.142320, T: 4000, Avg. loss: 1041.672500\n",
      "Total training time: 0.02 seconds.\n",
      "-- Epoch 41\n",
      "Norm: 84.69, NNZs: 1, Bias: 10.131276, T: 4100, Avg. loss: 1041.631462\n",
      "Total training time: 0.02 seconds.\n",
      "-- Epoch 42\n",
      "Norm: 84.71, NNZs: 1, Bias: 10.119483, T: 4200, Avg. loss: 1041.605111\n",
      "Total training time: 0.02 seconds.\n",
      "-- Epoch 43\n",
      "Norm: 84.75, NNZs: 1, Bias: 10.119595, T: 4300, Avg. loss: 1041.616348\n",
      "Total training time: 0.02 seconds.\n",
      "-- Epoch 44\n",
      "Norm: 84.79, NNZs: 1, Bias: 10.093910, T: 4400, Avg. loss: 1041.547390\n",
      "Total training time: 0.02 seconds.\n",
      "-- Epoch 45\n",
      "Norm: 84.82, NNZs: 1, Bias: 10.044897, T: 4500, Avg. loss: 1041.422815\n",
      "Total training time: 0.02 seconds.\n",
      "-- Epoch 46\n",
      "Norm: 84.87, NNZs: 1, Bias: 10.084762, T: 4600, Avg. loss: 1041.486327\n",
      "Total training time: 0.02 seconds.\n",
      "-- Epoch 47\n",
      "Norm: 84.92, NNZs: 1, Bias: 10.094000, T: 4700, Avg. loss: 1041.504936\n",
      "Total training time: 0.02 seconds.\n",
      "-- Epoch 48\n",
      "Norm: 84.91, NNZs: 1, Bias: 10.083052, T: 4800, Avg. loss: 1041.433546\n",
      "Total training time: 0.02 seconds.\n",
      "-- Epoch 49\n",
      "Norm: 84.94, NNZs: 1, Bias: 10.089726, T: 4900, Avg. loss: 1041.469362\n",
      "Total training time: 0.02 seconds.\n",
      "-- Epoch 50\n",
      "Norm: 84.96, NNZs: 1, Bias: 10.096951, T: 5000, Avg. loss: 1041.474137\n",
      "Total training time: 0.02 seconds.\n",
      "Convergence after 50 epochs took 0.02 seconds\n"
     ]
    },
    {
     "data": {
      "text/plain": [
       "(array([84.9597293]), array([10.09695129]))"
      ]
     },
     "execution_count": 7,
     "metadata": {},
     "output_type": "execute_result"
    }
   ],
   "source": [
    "# max_iter: 반복횟수 - epoch(기본값: 1000)\n",
    "# eta0: 학습률(기본값: 0.01)\n",
    "# penalty: 규제방식('L1'-Lasso, 'L2'-Ridge(기본값), 'elasticnet'(L1,L2를 합친 것), None)\n",
    "# alpha: 규제강도(기본값: 0.0001)\n",
    "\n",
    "sgd=SGDRegressor(verbose=1)  # verbose: iteration마다 상황을 보여줌\n",
    "sgd.fit(X,y)\n",
    "sgd.coef_, sgd.intercept_"
   ]
  },
  {
   "cell_type": "code",
   "execution_count": 8,
   "metadata": {},
   "outputs": [
    {
     "data": {
      "text/plain": [
       "(0.7320986076908162, 2078.576747123033)"
      ]
     },
     "execution_count": 8,
     "metadata": {},
     "output_type": "execute_result"
    }
   ],
   "source": [
    "from sklearn.metrics import r2_score, mean_squared_error\n",
    "\n",
    "pred=sgd.predict(X)\n",
    "r2_score(y, pred), mean_squared_error(y, pred)"
   ]
  },
  {
   "cell_type": "code",
   "execution_count": null,
   "metadata": {},
   "outputs": [],
   "source": []
  },
  {
   "cell_type": "code",
   "execution_count": null,
   "metadata": {},
   "outputs": [],
   "source": []
  }
 ],
 "metadata": {
  "kernelspec": {
   "display_name": "Python 3",
   "language": "python",
   "name": "python3"
  },
  "language_info": {
   "codemirror_mode": {
    "name": "ipython",
    "version": 3
   },
   "file_extension": ".py",
   "mimetype": "text/x-python",
   "name": "python",
   "nbconvert_exporter": "python",
   "pygments_lexer": "ipython3",
   "version": "3.7.4"
  },
  "toc": {
   "base_numbering": 1,
   "nav_menu": {},
   "number_sections": false,
   "sideBar": true,
   "skip_h1_title": false,
   "title_cell": "Table of Contents",
   "title_sidebar": "Contents",
   "toc_cell": false,
   "toc_position": {},
   "toc_section_display": true,
   "toc_window_display": false
  },
  "varInspector": {
   "cols": {
    "lenName": 16,
    "lenType": 16,
    "lenVar": 40
   },
   "kernels_config": {
    "python": {
     "delete_cmd_postfix": "",
     "delete_cmd_prefix": "del ",
     "library": "var_list.py",
     "varRefreshCmd": "print(var_dic_list())"
    },
    "r": {
     "delete_cmd_postfix": ") ",
     "delete_cmd_prefix": "rm(",
     "library": "var_list.r",
     "varRefreshCmd": "cat(var_dic_list()) "
    }
   },
   "types_to_exclude": [
    "module",
    "function",
    "builtin_function_or_method",
    "instance",
    "_Feature"
   ],
   "window_display": false
  }
 },
 "nbformat": 4,
 "nbformat_minor": 2
}
